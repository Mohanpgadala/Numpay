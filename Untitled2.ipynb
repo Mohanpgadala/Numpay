{
  "nbformat": 4,
  "nbformat_minor": 0,
  "metadata": {
    "colab": {
      "provenance": [],
      "gpuType": "T4",
      "authorship_tag": "ABX9TyP9Nx6vUNP+5u7dSFk72IS6",
      "include_colab_link": true
    },
    "kernelspec": {
      "name": "python3",
      "display_name": "Python 3"
    },
    "language_info": {
      "name": "python"
    },
    "accelerator": "GPU"
  },
  "cells": [
    {
      "cell_type": "markdown",
      "metadata": {
        "id": "view-in-github",
        "colab_type": "text"
      },
      "source": [
        "<a href=\"https://colab.research.google.com/github/Mohanpgadala/Numpay/blob/main/Untitled2.ipynb\" target=\"_parent\"><img src=\"https://colab.research.google.com/assets/colab-badge.svg\" alt=\"Open In Colab\"/></a>"
      ]
    },
    {
      "cell_type": "markdown",
      "source": [
        "#Numpy :\n",
        "\n",
        "Numpy is the function library for secientific computing with python. Numpy is centered around a powerful N-dimensional arry object, and it also contains useful linear algebra. fourier transform, and random number functions.\n",
        "\n",
        "\n",
        "\n",
        "#CREATING ARRAYS:\n",
        "\n",
        "First let's make sure that this notebook works both python 2 and 3.\n",
        "\n",
        "Now let's import numpy. Most people import it as np:\n",
        "\n",
        "\n",
        "\n"
      ],
      "metadata": {
        "id": "nnh5AWdiP6CM"
      }
    },
    {
      "cell_type": "code",
      "source": [
        "import numpy as np\n"
      ],
      "metadata": {
        "id": "f_cHKbCzSTDB"
      },
      "execution_count": null,
      "outputs": []
    },
    {
      "cell_type": "markdown",
      "source": [
        "#np.zeros\n",
        "\n",
        "The zeros function creates an array containing any number of zeros:"
      ],
      "metadata": {
        "id": "WThz9HZFS8JC"
      }
    },
    {
      "cell_type": "code",
      "source": [
        "np.zeros(5)"
      ],
      "metadata": {
        "colab": {
          "base_uri": "https://localhost:8080/"
        },
        "id": "9pFrhVnlT2A5",
        "outputId": "2d0ef82e-ec6a-4fff-edd0-a6fa00952330"
      },
      "execution_count": null,
      "outputs": [
        {
          "output_type": "execute_result",
          "data": {
            "text/plain": [
              "array([0., 0., 0., 0., 0.])"
            ]
          },
          "metadata": {},
          "execution_count": 3
        }
      ]
    },
    {
      "cell_type": "markdown",
      "source": [
        "It's just as easy to create a 2D array (ie. matrix) by providing a tuple with the desired number of rows and columns. For example, here's 3x4 matrix:"
      ],
      "metadata": {
        "id": "OhxwFfx3UAJO"
      }
    },
    {
      "cell_type": "code",
      "source": [
        "np.zeros((3,4))"
      ],
      "metadata": {
        "colab": {
          "base_uri": "https://localhost:8080/"
        },
        "id": "Usc4Zc05Uf-_",
        "outputId": "eeca511b-c3c0-4f46-e3f8-e474e60dc1e8"
      },
      "execution_count": null,
      "outputs": [
        {
          "output_type": "execute_result",
          "data": {
            "text/plain": [
              "array([[0., 0., 0., 0.],\n",
              "       [0., 0., 0., 0.],\n",
              "       [0., 0., 0., 0.]])"
            ]
          },
          "metadata": {},
          "execution_count": 4
        }
      ]
    },
    {
      "cell_type": "markdown",
      "source": [
        "#SOME VOCABULARY\n",
        "\n",
        "1.In Numpy, each dimension is called an axis.\n",
        "\n",
        "2.The number of axes is called the rank.\n",
        "\n",
        "     .For example, the above 3x4 matrix is an array of rank 2 (# it is 2-dimensional).\n",
        "     .The first axis has length3, The second has length 4.\n",
        "3.An array's list of axis length is called shape of the array.\n",
        "\n",
        "     .For example, the above matrix's shape (3, 4).\n",
        "     .The rank is equal to the shape's length.\n",
        "\n",
        "4.The size of an array is the total number of elements. wwhich is the product of all axis lengths(3*4=12)"
      ],
      "metadata": {
        "id": "93c12CYkUqC1"
      }
    },
    {
      "cell_type": "code",
      "source": [
        "a = np.zeros((3, 4))\n",
        "a"
      ],
      "metadata": {
        "colab": {
          "base_uri": "https://localhost:8080/"
        },
        "id": "sU6kf2FCXU1w",
        "outputId": "2fba9092-e84c-4a8d-9040-26a5c24cd3b2"
      },
      "execution_count": null,
      "outputs": [
        {
          "output_type": "execute_result",
          "data": {
            "text/plain": [
              "array([[0., 0., 0., 0.],\n",
              "       [0., 0., 0., 0.],\n",
              "       [0., 0., 0., 0.]])"
            ]
          },
          "metadata": {},
          "execution_count": 6
        }
      ]
    },
    {
      "cell_type": "code",
      "source": [
        "a.shape"
      ],
      "metadata": {
        "colab": {
          "base_uri": "https://localhost:8080/"
        },
        "id": "dPoixEeOXrQA",
        "outputId": "833957ba-3869-4d37-b80d-e03cd9982961"
      },
      "execution_count": null,
      "outputs": [
        {
          "output_type": "execute_result",
          "data": {
            "text/plain": [
              "(3, 4)"
            ]
          },
          "metadata": {},
          "execution_count": 7
        }
      ]
    },
    {
      "cell_type": "code",
      "source": [
        "a.ndim     # equal to len(a.shape)"
      ],
      "metadata": {
        "colab": {
          "base_uri": "https://localhost:8080/"
        },
        "id": "32VphrdUXv6r",
        "outputId": "2178fae6-cca6-4bc8-e192-983026e21381"
      },
      "execution_count": null,
      "outputs": [
        {
          "output_type": "execute_result",
          "data": {
            "text/plain": [
              "2"
            ]
          },
          "metadata": {},
          "execution_count": 9
        }
      ]
    },
    {
      "cell_type": "code",
      "source": [
        "a.size"
      ],
      "metadata": {
        "colab": {
          "base_uri": "https://localhost:8080/"
        },
        "id": "m9LECz9xYCf5",
        "outputId": "755bed11-8e4a-46c3-8a38-843b8b2a56e6"
      },
      "execution_count": null,
      "outputs": [
        {
          "output_type": "execute_result",
          "data": {
            "text/plain": [
              "12"
            ]
          },
          "metadata": {},
          "execution_count": 10
        }
      ]
    },
    {
      "cell_type": "markdown",
      "source": [
        "# N-Dimensional arrays\n",
        "\n",
        "You can also create an N-dimensional array of arbitray rank. For example ,here's a 3D array (rank=3), with shape (2,3,4):"
      ],
      "metadata": {
        "id": "LZ2SgEx_YWGJ"
      }
    },
    {
      "cell_type": "code",
      "source": [
        "np.zeros((2,3,4))"
      ],
      "metadata": {
        "colab": {
          "base_uri": "https://localhost:8080/"
        },
        "id": "Wsz946vsZY1H",
        "outputId": "49017625-0834-4a3c-d623-2bccc7195c9d"
      },
      "execution_count": null,
      "outputs": [
        {
          "output_type": "execute_result",
          "data": {
            "text/plain": [
              "array([[[0., 0., 0., 0.],\n",
              "        [0., 0., 0., 0.],\n",
              "        [0., 0., 0., 0.]],\n",
              "\n",
              "       [[0., 0., 0., 0.],\n",
              "        [0., 0., 0., 0.],\n",
              "        [0., 0., 0., 0.]]])"
            ]
          },
          "metadata": {},
          "execution_count": 11
        }
      ]
    },
    {
      "cell_type": "markdown",
      "source": [
        "# ARRAY TYPE\n",
        "Numpy arrays have the ndarray s:\n"
      ],
      "metadata": {
        "id": "8WUCsmQDZmoK"
      }
    },
    {
      "cell_type": "code",
      "source": [
        "type(np.zeros((3, 4)))"
      ],
      "metadata": {
        "colab": {
          "base_uri": "https://localhost:8080/"
        },
        "id": "Y2xezJsLZx8i",
        "outputId": "38644c58-5e1b-423e-bc3f-aaed82637fd0"
      },
      "execution_count": null,
      "outputs": [
        {
          "output_type": "execute_result",
          "data": {
            "text/plain": [
              "numpy.ndarray"
            ]
          },
          "metadata": {},
          "execution_count": 12
        }
      ]
    },
    {
      "cell_type": "markdown",
      "source": [
        "# np.ones\n",
        "\n",
        "Many other Numpy functions create ndarrays .\n",
        "\n",
        "Here's a 3x4 matrix of ones:\n"
      ],
      "metadata": {
        "id": "iuzFY_J7aKJt"
      }
    },
    {
      "cell_type": "code",
      "source": [
        "np.ones((3, 4))"
      ],
      "metadata": {
        "colab": {
          "base_uri": "https://localhost:8080/"
        },
        "id": "s6ELISRWafPW",
        "outputId": "67e3f8e9-ab4b-44d4-e5fb-c8dd0dab957f"
      },
      "execution_count": null,
      "outputs": [
        {
          "output_type": "execute_result",
          "data": {
            "text/plain": [
              "array([[1., 1., 1., 1.],\n",
              "       [1., 1., 1., 1.],\n",
              "       [1., 1., 1., 1.]])"
            ]
          },
          "metadata": {},
          "execution_count": 13
        }
      ]
    },
    {
      "cell_type": "markdown",
      "source": [
        "#np.full\n",
        "\n",
        "creates an array of the given shape initialized with the given value . Here's a matrix full of pai."
      ],
      "metadata": {
        "id": "IUS3oBmqaoEp"
      }
    },
    {
      "cell_type": "code",
      "source": [
        "np.full((3, 4), np.pi)"
      ],
      "metadata": {
        "colab": {
          "base_uri": "https://localhost:8080/"
        },
        "id": "Vd6BkJIhbVv5",
        "outputId": "c4e83fe5-4c7b-4172-a0fa-4efd59294c2a"
      },
      "execution_count": null,
      "outputs": [
        {
          "output_type": "execute_result",
          "data": {
            "text/plain": [
              "array([[3.14159265, 3.14159265, 3.14159265, 3.14159265],\n",
              "       [3.14159265, 3.14159265, 3.14159265, 3.14159265],\n",
              "       [3.14159265, 3.14159265, 3.14159265, 3.14159265]])"
            ]
          },
          "metadata": {},
          "execution_count": 16
        }
      ]
    },
    {
      "cell_type": "markdown",
      "source": [
        "#np.empty\n",
        "\n",
        "An unitialized 2x3 array (it's content is not predictable,as it whatever is in memory at that point):\n"
      ],
      "metadata": {
        "id": "eyVbZ7F5bq8T"
      }
    },
    {
      "cell_type": "code",
      "source": [
        "np.empty((2,3))"
      ],
      "metadata": {
        "colab": {
          "base_uri": "https://localhost:8080/"
        },
        "id": "3pH_D_YjdGFD",
        "outputId": "887d0fd0-acf0-4bed-c328-d8bda2087ab8"
      },
      "execution_count": null,
      "outputs": [
        {
          "output_type": "execute_result",
          "data": {
            "text/plain": [
              "array([[4.82496486e-310, 0.00000000e+000, 2.65141183e+180],\n",
              "       [4.95236426e+223, 4.52351123e+257, 1.45909030e-258]])"
            ]
          },
          "metadata": {},
          "execution_count": 18
        }
      ]
    },
    {
      "cell_type": "markdown",
      "source": [
        "#np.array\n",
        "Of course you can intialize you can an ndarray using a regular python array. just call the array function:"
      ],
      "metadata": {
        "id": "MgeEE2I2dfpl"
      }
    },
    {
      "cell_type": "code",
      "source": [
        "np.array([[1,2,3,4], [10,20,30,40]])"
      ],
      "metadata": {
        "colab": {
          "base_uri": "https://localhost:8080/"
        },
        "id": "6K6Fal62d47y",
        "outputId": "6c979e56-954b-4a5c-d33f-09d6a77d9c07"
      },
      "execution_count": null,
      "outputs": [
        {
          "output_type": "execute_result",
          "data": {
            "text/plain": [
              "array([[ 1,  2,  3,  4],\n",
              "       [10, 20, 30, 40]])"
            ]
          },
          "metadata": {},
          "execution_count": 20
        }
      ]
    },
    {
      "cell_type": "markdown",
      "source": [
        "#np.arange\n",
        "\n",
        "You can create an ndarray using Numpy's range function, which is similar to python's built-in range function:"
      ],
      "metadata": {
        "id": "wpCcFQbgeZY8"
      }
    },
    {
      "cell_type": "code",
      "source": [
        "np.arange(1,5)"
      ],
      "metadata": {
        "colab": {
          "base_uri": "https://localhost:8080/"
        },
        "id": "GVMXRCuAe0c4",
        "outputId": "8f0d3ac5-a8ac-4077-9d40-abb5d228dd67"
      },
      "execution_count": null,
      "outputs": [
        {
          "output_type": "execute_result",
          "data": {
            "text/plain": [
              "array([1, 2, 3, 4])"
            ]
          },
          "metadata": {},
          "execution_count": 23
        }
      ]
    },
    {
      "cell_type": "markdown",
      "source": [
        "It also works with floats:"
      ],
      "metadata": {
        "id": "eqYinStAfRua"
      }
    },
    {
      "cell_type": "code",
      "source": [
        "np.arange(1.0,5.0)"
      ],
      "metadata": {
        "colab": {
          "base_uri": "https://localhost:8080/"
        },
        "id": "6KST9Oypfgx7",
        "outputId": "2f9a9b10-06df-4067-ae32-5360695e584b"
      },
      "execution_count": null,
      "outputs": [
        {
          "output_type": "execute_result",
          "data": {
            "text/plain": [
              "array([1., 2., 3., 4.])"
            ]
          },
          "metadata": {},
          "execution_count": 24
        }
      ]
    },
    {
      "cell_type": "markdown",
      "source": [
        "Of course you can provide a step parameter:"
      ],
      "metadata": {
        "id": "jttcMeuJfr2j"
      }
    },
    {
      "cell_type": "code",
      "source": [
        "np.arange(1,5,0.5)"
      ],
      "metadata": {
        "colab": {
          "base_uri": "https://localhost:8080/"
        },
        "id": "zCHBCN51f0aq",
        "outputId": "68097393-cb1c-495e-966a-ae911dc28a94"
      },
      "execution_count": null,
      "outputs": [
        {
          "output_type": "execute_result",
          "data": {
            "text/plain": [
              "array([1. , 1.5, 2. , 2.5, 3. , 3.5, 4. , 4.5])"
            ]
          },
          "metadata": {},
          "execution_count": 25
        }
      ]
    },
    {
      "cell_type": "markdown",
      "source": [
        "#np.linspace\n",
        "\n",
        "for this reason . it is generally preferable to use the linspace function instead of arange when working wwith floats. The linspace function returns an array containing a specific number of points evenly distributed between two values.(note that the maximum value is included , contrary to arange):"
      ],
      "metadata": {
        "id": "OO1d8EtOgLBI"
      }
    },
    {
      "cell_type": "code",
      "source": [
        "print(np.linspace(0,5/3,6))"
      ],
      "metadata": {
        "colab": {
          "base_uri": "https://localhost:8080/"
        },
        "id": "osbu1oRohFkF",
        "outputId": "98e78fff-a94c-47e3-df6b-f64493e1dbc7"
      },
      "execution_count": null,
      "outputs": [
        {
          "output_type": "stream",
          "name": "stdout",
          "text": [
            "[0.         0.33333333 0.66666667 1.         1.33333333 1.66666667]\n"
          ]
        }
      ]
    },
    {
      "cell_type": "markdown",
      "source": [
        "#np.rand and np.randn\n",
        "\n",
        "A number of function are available in Numpy's random module to create ndarray s intialized with random values. For example, here is a 3x4 matrix intialized with random floats between 0 and 1(uniform distribution):"
      ],
      "metadata": {
        "id": "P3k3ag_VhSMW"
      }
    },
    {
      "cell_type": "code",
      "source": [
        "np.random.rand(3,4)"
      ],
      "metadata": {
        "colab": {
          "base_uri": "https://localhost:8080/"
        },
        "id": "nL7UYJV0iMOE",
        "outputId": "efea480c-f8ed-4f4a-89a1-c47c8f0ae130"
      },
      "execution_count": null,
      "outputs": [
        {
          "output_type": "execute_result",
          "data": {
            "text/plain": [
              "array([[0.83733888, 0.95015543, 0.36721718, 0.44814099],\n",
              "       [0.18882104, 0.80805676, 0.50767495, 0.12053281],\n",
              "       [0.64396016, 0.5642339 , 0.93518515, 0.64726937]])"
            ]
          },
          "metadata": {},
          "execution_count": 27
        }
      ]
    },
    {
      "cell_type": "markdown",
      "source": [
        "Here's a 3x4 matrix containing random floats sampled from a univariate normal distribution."
      ],
      "metadata": {
        "id": "9cR3nCSmhYWB"
      }
    },
    {
      "cell_type": "code",
      "source": [
        "np.random.randn(3,4)"
      ],
      "metadata": {
        "colab": {
          "base_uri": "https://localhost:8080/"
        },
        "id": "sGT_nLh2iudt",
        "outputId": "7061d7bf-e81c-4b03-89b0-1e373a35e53e"
      },
      "execution_count": null,
      "outputs": [
        {
          "output_type": "execute_result",
          "data": {
            "text/plain": [
              "array([[-0.2193812 ,  0.87648934,  0.3534233 , -0.12587358],\n",
              "       [-2.21058938,  0.61216446,  0.41715622, -0.84490789],\n",
              "       [ 1.13623725,  0.33655807, -1.17006537,  1.12542907]])"
            ]
          },
          "metadata": {},
          "execution_count": 28
        }
      ]
    }
  ]
}